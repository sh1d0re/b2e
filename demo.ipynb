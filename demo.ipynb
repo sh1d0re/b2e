{
 "cells": [
  {
   "cell_type": "code",
   "execution_count": null,
   "metadata": {},
   "outputs": [],
   "source": [
    "# Example of a quick b2e encoder\n",
    "\n",
    "from b2e import b2e # Import b2e\n",
    "while True: # Infinite loop\n",
    "    select=input(\"Would you like to encode? decode?\\n[e/d]: \") # Ask if the user wants to encode or decode using the b2e\n",
    "    if select == \"e\": print(b2e.encode(input(\"PUBLIC KEY: \"),input(\"TEXT: \"))) # Encode asking public key and encode text\n",
    "    if select == \"d\": print(b2e.decode(input(\"PUBLIC KEY: \"),input(\"TEXT: \"))) # Decode asking public key and decode text"
   ]
  },
  {
   "cell_type": "code",
   "execution_count": null,
   "metadata": {},
   "outputs": [],
   "source": [
    "# Example of a safe double encoding system\n",
    "\n",
    "from b2e import b2e # Import b2e\n",
    "while True: # Infinite loop\n",
    "    select=input(\"Would you like to encode? decode?\\n[e/d]: \") # Ask if the user wants to encode or decode using the b2e\n",
    "    public_key,text=input(\"PUBLIC KEY: \"), input(\"TEXT: \") # Asking for public_key and text\n",
    "    if select == \"e\": print(b2e.encode(public_key, b2e.encode(public_key,text))) # Encoding twice using the gained variables from the line before\n",
    "    if select == \"d\": print(b2e.decode(public_key, b2e.decode(public_key,text))) # Decoding twice using the gained variables from the line before"
   ]
  }
 ],
 "metadata": {
  "kernelspec": {
   "display_name": "Python 3.11.2 64-bit",
   "language": "python",
   "name": "python3"
  },
  "language_info": {
   "codemirror_mode": {
    "name": "ipython",
    "version": 3
   },
   "file_extension": ".py",
   "mimetype": "text/x-python",
   "name": "python",
   "nbconvert_exporter": "python",
   "pygments_lexer": "ipython3",
   "version": "3.11.2"
  },
  "orig_nbformat": 4,
  "vscode": {
   "interpreter": {
    "hash": "aee8b7b246df8f9039afb4144a1f6fd8d2ca17a180786b69acc140d282b71a49"
   }
  }
 },
 "nbformat": 4,
 "nbformat_minor": 2
}
